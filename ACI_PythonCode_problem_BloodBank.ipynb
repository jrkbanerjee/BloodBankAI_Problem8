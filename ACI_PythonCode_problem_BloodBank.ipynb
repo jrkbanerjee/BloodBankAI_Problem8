{
 "cells": [
  {
   "cell_type": "markdown",
   "metadata": {
    "id": "MzZ4dJQYF7sH"
   },
   "source": [
    "# Artificial and Computational Intelligence Assignment 1"
   ]
  },
  {
   "cell_type": "markdown",
   "metadata": {
    "id": "0GESdcFZr40H"
   },
   "source": [
    "# Problem solving by Uninformed & Informed Search"
   ]
  },
  {
   "cell_type": "markdown",
   "metadata": {
    "id": "rklx_PBLsXla"
   },
   "source": [
   ]
  },
  {
   "cell_type": "markdown",
   "metadata": {
    "id": "bupXDy7Muzkl"
   },
   "source": [
    "---\n",
    "\n",
    "**PEAS Description**\n",
    "\n",
    "---\n",
    "\n",
    "- **Performance Measure**:\n",
    "  - **Minimize the total travel distance** while ensuring all blood banks are visited exactly once.\n",
    "  - Ensure blood is **delivered to the hospital**.\n",
    "  - **Time Efficiency**, **optimized resource utilization** and **Realiable delivery** are other key performance measure.\n",
    "\n",
    "- **Environment**:\n",
    "  - The region includes **multiple blood banks** and **one hospital**.\n",
    "  - The given environment is **static** and **fully observable**.\n",
    "\n",
    "- **Actuators**:\n",
    "  - Drone's **motors and propellers** to control the flight\n",
    "  - Navigation system of the drone with **gyroscope and accelerometer** to adjust direction and altitude of the drone.\n",
    "  - **Cargo holder** - a safe mechanism to pick up, carry and release the packages. It could be mechanical arms with motors.\n",
    "  - **landing Gear**\n",
    "\n",
    "- **Sensors**:\n",
    "  - **GPS** or other **location-detection systems** to track the drone's position.\n",
    "  - **Lidar** or **Camera** for navigating, obstacle avoidance and measure distances.\n",
    "  - **GSM sensor** in case of cellular communication or other wireless sensors.\n",
    "\n",
    "---\n",
    "\n",
    "### **Properties of Task Environment**\n",
    "\n",
    "---\n",
    "\n",
    "1. **Observable (Fully/Partially):**\n",
    "   - **Partially Observable:** The environment is partially observable because the drone might not have complete, real-time information about all variables at all times. For example, weather conditions, traffic (air or ground), or other emergencies may not be fully predictable or observable from the drone's perspective.\n",
    "\n",
    "2. **Deterministic/Stochastic:**\n",
    "   - **Stochastic:** The environment is stochastic as it involves uncertainty and randomness. Factors like weather changes, unforeseen obstacles, or variable traffic conditions can influence the outcomes of the drone's actions, making the environment unpredictable.\n",
    "\n",
    "3. **Episodic/Sequential:**\n",
    "   - **Sequential:** The environment is sequential because the drone’s actions are dependent on previous decisions. For instance, choosing a particular blood bank first affects the next available options and the overall route efficiency.\n",
    "\n",
    "4. **Static/Dynamic:**\n",
    "   - **Dynamic:** The environment is dynamic. It changes over time due to external factors such as weather conditions, air traffic, or even changes in the urgency of the blood delivery. The drone must adapt to these changes in real time.\n",
    "\n",
    "5. **Discrete/Continuous:**\n",
    "   - **Continuous:** The environment is continuous because the drone operates in a real-world space where variables like position, speed, and environmental conditions vary continuously rather than in discrete steps.\n",
    "\n",
    "6. **Single-agent/Multi-agent:**\n",
    "   - **Single-agent:** The environment is primarily single-agent concerning the Blood Supply Drone. Although the drone may interact with other agents (like air traffic control), the decision-making process for optimizing the route is focused on a single agent (the drone itself).\n",
    "\n",
    "---"
   ]
  },
  {
   "cell_type": "markdown",
   "metadata": {
    "id": "XDUXuGOQsMLj"
   },
   "source": [
    "# 1. Initial state with dynamic inputs.\n",
    "\n",
    "# 2. Matrix for transition and cost"
   ]
  },
  {
   "cell_type": "code",
   "execution_count": 1,
   "metadata": {
    "id": "y6v4BA4FmjB2"
   },
   "outputs": [],
   "source": [
    "import time\n",
    "from collections import deque\n",
    "import tracemalloc"
   ]
  },
  {
   "cell_type": "code",
   "execution_count": 2,
   "metadata": {
    "id": "j7yeGHrtpH5W"
   },
   "outputs": [],
   "source": [
    "''' This function takes in all the user inputs making it dynamic to different problems.\n",
    "Input:\n",
    "Number of nodes Excluding the destination (Hospital) node.\n",
    "Name for each node (A, B, C ....)\n",
    "Distance between each nodes in numbers only.\n",
    "\n",
    "Output:\n",
    "Distances\n",
    "Nodes\n",
    "Hospital (destination node).\n",
    "'''\n",
    "def get_dynamic_inputs():\n",
    "    distances = {}\n",
    "    nodes = []\n",
    "\n",
    "    num_nodes = int(input(\"Enter the total number of blood banks: \"))\n",
    "\n",
    "    # collect all the node's name in the graph.\n",
    "    for i in range(num_nodes):\n",
    "        node_name = input(f\"Enter the name of blood bank {i+1}: \").strip()\n",
    "        while not node_name:\n",
    "            print(\"Name cannot be empty. Please enter a valid name.\")\n",
    "            node_name = input(f\"Enter the name of blood bank {i+1}: \").strip()\n",
    "        nodes.append(node_name)\n",
    "\n",
    "\n",
    "    hospital = 'Hospital'\n",
    "\n",
    "    # Collect the distance between the nodes\n",
    "    for i in range(len(nodes)):\n",
    "      node1 = nodes[i]\n",
    "      for j in range(i+1, len(nodes)):\n",
    "        node2 = nodes[j]\n",
    "        distance = input(f\"Enter the distance between {node1} and {node2} (press enter if path does not exist): \").strip()\n",
    "        if distance:\n",
    "          try:\n",
    "            distance = float(distance)\n",
    "            if distance >= 0:\n",
    "              distances[(node1, node2)] = distance\n",
    "              distances[(node2, node1)] = distance\n",
    "            else:\n",
    "              print(\"Distance must be non-negative. Skipping this path.\")\n",
    "          except ValueError:\n",
    "            print(\"Invalid distance. Skipping this path.\")\n",
    "      distance = input(f\"Enter the distance between {node1} and 'Hospital' (press enter if path does not exist): \").strip()\n",
    "      if distance:\n",
    "        try:\n",
    "          distance = float(distance)\n",
    "          if distance >= 0:\n",
    "            distances[(node1, 'Hospital')] = distance\n",
    "            distances[('Hospital',node1)] = distance\n",
    "          else:\n",
    "              print(\"Distance must be non-negative. Skipping this path.\")\n",
    "        except ValueError:\n",
    "          print(\"Invalid distance. Skipping this path.\")\n",
    "\n",
    "\n",
    "    print(\"Distance dictionary after adding user input:\", distances)\n",
    "    print(nodes)\n",
    "    return distances, nodes, hospital\n",
    "\n"
   ]
  },
  {
   "cell_type": "markdown",
   "metadata": {
    "id": "L2PXsDnktyQ9"
   },
   "source": [
    "# 3. Transition model/Successor function"
   ]
  },
  {
   "cell_type": "code",
   "execution_count": 3,
   "metadata": {
    "id": "wjgLditNsgtS"
   },
   "outputs": [],
   "source": [
    "''' This function takes in all the user inputs making it dynamic to different problems.\n",
    "Input:\n",
    "Current node - Drone's present node.\n",
    "Path - current path follwed by drone.\n",
    "blood_banks - list of all the blood banks given by user.\n",
    "distances - Graph of all nodes with destination hospital.\n",
    "\n",
    "Output:\n",
    "next node\n",
    "'''\n",
    "# Successor function to generate next states\n",
    "def successors(current_node,  path, blood_banks, distances):\n",
    "    if len(path) == len(blood_banks):  # All blood banks visited, add hospital as the next node\n",
    "        return ['Hospital']\n",
    "    return [bank for bank in blood_banks if bank not in path]"
   ]
  },
  {
   "cell_type": "markdown",
   "metadata": {
    "id": "Be6Hr4gDuIyL"
   },
   "source": [
    "# 4. Goal test\n",
    "\n",
    "1. Find the shortest path from any blood bank to hospital.\n",
    "2. Find the optimal path minimizing the total travel distance while ensuring that all blood banks are visited exactly once.\n",
    "Invoke BFS, IDAstar\n",
    "\n",
    "As per the problem Goal 2 is supposed to be found, goal 1 is additional."
   ]
  },
  {
   "cell_type": "code",
   "execution_count": 4,
   "metadata": {
    "id": "0Mt6rv7bt6cM"
   },
   "outputs": [],
   "source": [
    "# Function to select the goal (included so as to make the goal dynamic)\n",
    "def select_goal():\n",
    "    global goal\n",
    "    print(\"Select the goal to be achieved:\")\n",
    "    goal = int(input('Enter 1 if the goal is to find shortest path to hospital\\nEnter 2 if the goal is to find path by visiting all the nodes: '))\n",
    "    while goal not in [1, 2]:\n",
    "        print(\"Invalid selection. Please enter 1 or 2.\")\n",
    "        goal = int(input('Enter 1 if the goal is to find shortest path to hospital\\nEnter 2 if the goal is to find path by visiting all the nodes: '))\n",
    "    return goal\n",
    "\n",
    "# Goal test function\n",
    "# 1: To check the shortest path from selected blood bank to hospital\n",
    "# 2: To To find path by visiting all the blood banks\n",
    "\n",
    "\n",
    "def goal_test(current_node, target_node, path, blood_banks, goal, distances):\n",
    "    if goal == 1:\n",
    "        return current_node == target_node\n",
    "    elif goal == 2:\n",
    "        return len(path) == len(blood_banks)+1 # plus one to compensate for Hospital as separate node since not included in the blood banks"
   ]
  },
  {
   "cell_type": "markdown",
   "metadata": {
    "id": "Qo7smrzIO7N0"
   },
   "source": [
    "# Other supporting functions"
   ]
  },
  {
   "cell_type": "code",
   "execution_count": 5,
   "metadata": {
    "id": "3wx4PJhwO693"
   },
   "outputs": [],
   "source": [
    "# Function to calculate average distance to unvisited blood banks\n",
    "# Heuristic function: Average distance to unvisited blood banks\n",
    "\n",
    "def average_distance_to_unvisited(current_node, unvisited_banks, distances):\n",
    "    if not unvisited_banks:\n",
    "        return 0\n",
    "    total_distance = 0\n",
    "    count = 0\n",
    "    for bank in unvisited_banks:\n",
    "        if (current_node, bank) in distances:\n",
    "            total_distance += distances[(current_node, bank)]\n",
    "            count += 1\n",
    "        elif (bank, current_node) in distances:\n",
    "            total_distance += distances[(bank, current_node)]\n",
    "            count += 1\n",
    "    return total_distance / count if count > 0 else 0\n",
    "\n",
    "def calculate_total_distance(path, distances):\n",
    "    total_distance = 0\n",
    "    for i in range(len(path) - 1):\n",
    "        total_distance += distances[(path[i], path[i + 1])]\n",
    "    return total_distance\n",
    "\n",
    "'''\n",
    "    Find the optimal path for the Blood Supply Vehicle.\n",
    "\n",
    "    Inputs:\n",
    "    - blood_banks -  List of blood bank.\n",
    "    - distances - Graph (nested dictionary) of distances between nodes.\n",
    "    - goal: 1 or 2 as described in \"select goal\" function.\n",
    "    - target_node: hospital.\n",
    "    - bfsRida: Search strategy ('BFS' or 'IDA*').\n",
    "\n",
    "    Outputs:\n",
    "    - optimal_path: List of nodes in the optimal path.\n",
    "    - min_distance: Total distance of the optimal path.\n",
    "\n",
    "'''\n",
    "\n",
    "def find_optimal_path(blood_banks, distances, goal, target_node, bfsRida):\n",
    "    min_distance = float('inf')\n",
    "    optimal_path = []\n",
    "\n",
    "    for start_node in blood_banks:\n",
    "        if bfsRida == 'BFS':\n",
    "          path,_  = BFS(start_node, blood_banks,distances, goal, target_node)\n",
    "        elif bfsRida == 'IDA*':\n",
    "          path = ida_star(start_node, target_node, distances, blood_banks, goal)\n",
    "        if path:\n",
    "            total_distance = calculate_total_distance(path, distances)\n",
    "            print(path, total_distance)\n",
    "            if total_distance < min_distance:\n",
    "                min_distance = total_distance\n",
    "                optimal_path = path\n",
    "\n",
    "    return optimal_path, min_distance\n"
   ]
  },
  {
   "cell_type": "markdown",
   "metadata": {
    "id": "BzqCreTlHQc2"
   },
   "source": [
    "# 5. BFS - Bredth First Search Function."
   ]
  },
  {
   "cell_type": "code",
   "execution_count": 6,
   "metadata": {
    "id": "sAFp-_aYK34V"
   },
   "outputs": [],
   "source": [
    "'''\n",
    "Implementation of BFS algorithm\n",
    "input:\n",
    "- Start node: intial node\n",
    "- blood_banks - list of all blood banks\n",
    "- distances: Graph (nested dictionary) of distances between the nodes\n",
    "- target node: Hospital\n",
    "\n",
    "output:\n",
    "Optimal path and distance travelled as per BFS algorithm\n",
    "'''\n",
    "def BFS(start, blood_banks, distances, goal, target_node):\n",
    "    queue = deque([(start, [start], 0)])  # (current_node, path, total_distance)\n",
    "    min_distance = float('inf')\n",
    "    optimal_path = []\n",
    "\n",
    "    while queue:\n",
    "        current_node, path, total_distance = queue.popleft()\n",
    "        if goal_test(current_node, target_node, path, blood_banks, goal, distances):\n",
    "            if total_distance < min_distance:\n",
    "                min_distance = total_distance\n",
    "                optimal_path = path\n",
    "            continue\n",
    "\n",
    "        for neighbor in successors(current_node, path, blood_banks, distances):\n",
    "            distance = distances.get((current_node, neighbor), distances.get((neighbor, current_node), float('inf')))\n",
    "            queue.append((neighbor, path + [neighbor], total_distance + distance))\n",
    "\n",
    "    return optimal_path, min_distance"
   ]
  },
  {
   "cell_type": "markdown",
   "metadata": {
    "id": "ECAtEWN7LAWG"
   },
   "source": [
    "# 6. IDAStar - Iterative Depth A star function"
   ]
  },
  {
   "cell_type": "code",
   "execution_count": 7,
   "metadata": {
    "id": "u4fT8A2rK_ul"
   },
   "outputs": [],
   "source": [
    "'''\n",
    "Implementation of IDA* algorithm\n",
    "input:\n",
    "- Start node: intial node\n",
    "- blood_banks - list of all blood banks\n",
    "- distances: Graph (nested dictionary) of distances between the nodes\n",
    "- target node: Hospital\n",
    "\n",
    "output:\n",
    "Optimal path and distance travelled as per IDA* algorithm\n",
    "'''\n",
    "\n",
    "# Iterative Deepening A* (IDA*) search for shortest path\n",
    "def ida_star(start, target_node, distances, nodes, goal):\n",
    "    def search(path, g, bound, nodes, goal):\n",
    "        current_node = path[-1]\n",
    "        f = g + average_distance_to_unvisited(current_node, target_node, distances)\n",
    "        if f > bound:\n",
    "            return f, None\n",
    "        if goal_test(current_node, target_node, path, nodes, goal, distances):\n",
    "            return g, path\n",
    "        min_bound = float('inf')\n",
    "        for neighbor in successors(current_node, path, nodes, distances):\n",
    "            next_g = g + distances.get((current_node, neighbor), distances.get((neighbor, current_node), float('inf')))\n",
    "            path.append(neighbor)\n",
    "            t, result = search(path, next_g, bound, nodes, goal)\n",
    "            if result:\n",
    "                return t, result\n",
    "            if t < min_bound:\n",
    "                min_bound = t\n",
    "            path.pop()\n",
    "        return min_bound, None\n",
    "\n",
    "    bound = average_distance_to_unvisited(start, set(nodes) - {start}, distances)\n",
    "    path = [start]\n",
    "    while True:\n",
    "        t, result = search(path, 0, bound, nodes, goal)\n",
    "        if result:\n",
    "            return result\n",
    "        if t == float('inf'):\n",
    "            return None\n",
    "        bound = t"
   ]
  },
  {
   "cell_type": "markdown",
   "metadata": {
    "id": "fara2DvVLinZ"
   },
   "source": [
    "\n",
    "# 7. Function & call to get inputs (start/end state) Display the possible states to choose from."
   ]
  },
  {
   "cell_type": "code",
   "execution_count": 10,
   "metadata": {
    "colab": {
     "base_uri": "https://localhost:8080/"
    },
    "id": "Ga2UeGYELqxt",
    "outputId": "eb96130a-e8ab-4327-c141-0c2090728230"
   },
   "outputs": [
    {
     "name": "stdout",
     "output_type": "stream",
     "text": [
      "Enter the total number of blood banks: 6\n",
      "Enter the name of blood bank 1: A\n",
      "Enter the name of blood bank 2: B\n",
      "Enter the name of blood bank 3: C\n",
      "Enter the name of blood bank 4: D\n",
      "Enter the name of blood bank 5: E\n",
      "Enter the name of blood bank 6: F\n",
      "Enter the distance between A and B (press enter if path does not exist): 5\n",
      "Enter the distance between A and C (press enter if path does not exist): 8\n",
      "Enter the distance between A and D (press enter if path does not exist): \n",
      "Enter the distance between A and E (press enter if path does not exist): \n",
      "Enter the distance between A and F (press enter if path does not exist): \n",
      "Enter the distance between A and 'Hospital' (press enter if path does not exist): \n",
      "Enter the distance between B and C (press enter if path does not exist): 7\n",
      "Enter the distance between B and D (press enter if path does not exist): 6\n",
      "Enter the distance between B and E (press enter if path does not exist): 10\n",
      "Enter the distance between B and F (press enter if path does not exist): \n",
      "Enter the distance between B and 'Hospital' (press enter if path does not exist): 8\n",
      "Enter the distance between C and D (press enter if path does not exist): \n",
      "Enter the distance between C and E (press enter if path does not exist): \n",
      "Enter the distance between C and F (press enter if path does not exist): 12\n",
      "Enter the distance between C and 'Hospital' (press enter if path does not exist): \n",
      "Enter the distance between D and E (press enter if path does not exist): \n",
      "Enter the distance between D and F (press enter if path does not exist): \n",
      "Enter the distance between D and 'Hospital' (press enter if path does not exist): 10\n",
      "Enter the distance between E and F (press enter if path does not exist): 9\n",
      "Enter the distance between E and 'Hospital' (press enter if path does not exist): 18\n",
      "Enter the distance between F and 'Hospital' (press enter if path does not exist): \n",
      "Distance dictionary after adding user input: {('A', 'B'): 5.0, ('B', 'A'): 5.0, ('A', 'C'): 8.0, ('C', 'A'): 8.0, ('B', 'C'): 7.0, ('C', 'B'): 7.0, ('B', 'D'): 6.0, ('D', 'B'): 6.0, ('B', 'E'): 10.0, ('E', 'B'): 10.0, ('B', 'Hospital'): 8.0, ('Hospital', 'B'): 8.0, ('C', 'F'): 12.0, ('F', 'C'): 12.0, ('D', 'Hospital'): 10.0, ('Hospital', 'D'): 10.0, ('E', 'F'): 9.0, ('F', 'E'): 9.0, ('E', 'Hospital'): 18.0, ('Hospital', 'E'): 18.0}\n",
      "['A', 'B', 'C', 'D', 'E', 'F']\n"
     ]
    }
   ],
   "source": [
    "'''    distances = {\n",
    "        ('A', 'B'): 5,\n",
    "        ('A', 'C'): 8,\n",
    "        ('B', 'C'): 7,\n",
    "        ('B', 'D'): 6,\n",
    "        ('B', 'E'): 10,\n",
    "        ('B', 'Hospital'): 8,\n",
    "        ('C', 'F'): 12,\n",
    "        ('E', 'F'): 9,\n",
    "        ('D', 'Hospital'): 10,\n",
    "        ('E', 'Hospital'): 18,\n",
    "        ('B', 'A'): 5,\n",
    "        ('C', 'A'): 8,\n",
    "        ('C', 'B'): 7,\n",
    "        ('D', 'B'): 6,\n",
    "        ('E', 'B'): 10,\n",
    "        ('Hospital', 'B'): 8,\n",
    "        ('F', 'C'): 12,\n",
    "        ('F', 'E'): 9,\n",
    "        ('Hospital', 'D'): 10,\n",
    "        ('Hospital', 'E'): 18\n",
    "    }'''\n",
    "distances, nodes, target_node = get_dynamic_inputs()"
   ]
  },
  {
   "cell_type": "markdown",
   "metadata": {
    "id": "K1KSbifCL5oK"
   },
   "source": [
    "# 8. Slect the goal\n",
    "1. Find the shortest path from any blood bank to hospital.\n",
    "2. Find the optimal path minimizing the total travel distance while ensuring that all blood banks are visited exactly once.\n",
    "Invoke BFS, IDAstar\n",
    "\n",
    "As per the problem Goal 2 is supposed to be found, goal 1 is additional and can be ignored."
   ]
  },
  {
   "cell_type": "code",
   "execution_count": 11,
   "metadata": {
    "colab": {
     "base_uri": "https://localhost:8080/"
    },
    "id": "mqTu7b3SL-km",
    "outputId": "baea3a91-c54f-41f3-ff17-3f91322f05a4"
   },
   "outputs": [
    {
     "name": "stdout",
     "output_type": "stream",
     "text": [
      "Select the goal to be achieved:\n",
      "Enter 1 if the goal is to find shortest path to hospital\n",
      "Enter 2 if the goal is to find path by visiting all the nodes: 2\n",
      "['A', 'C', 'F', 'E', 'B', 'D', 'Hospital'] 55.0\n",
      "['D', 'B', 'A', 'C', 'F', 'E', 'Hospital'] 58.0\n",
      "['E', 'F', 'C', 'A', 'B', 'D', 'Hospital'] 50.0\n",
      "['A', 'C', 'F', 'E', 'B', 'D', 'Hospital'] 55.0\n",
      "['D', 'B', 'A', 'C', 'F', 'E', 'Hospital'] 58.0\n",
      "['E', 'F', 'C', 'A', 'B', 'D', 'Hospital'] 50.0\n",
      "IDA* results:\n",
      "Optimal path: E -> F -> C -> A -> B -> D -> Hospital\n",
      "Total distance: 50.0\n",
      "Time taken: 0.018653 seconds\n",
      "Memory usage: 10.46 KB\n",
      "\n",
      "BFS results:\n",
      "Optimal path: E -> F -> C -> A -> B -> D -> Hospital\n",
      "Total distance: 50.0\n",
      "Time taken: 0.018134 seconds\n",
      "Memory usage: 15.98 KB\n"
     ]
    }
   ],
   "source": [
    "goal = select_goal()\n",
    "if goal == 1:\n",
    "  start_node = input(\"Enter the starting node: \")\n",
    "  nodes.append(target_node)\n",
    "  tracemalloc.start()\n",
    "  start_time_ida = time.time()\n",
    "  optimal_path_ida = ida_star(start_node, target_node, distances, nodes, goal)\n",
    "  end_time_ida = time.time()\n",
    "  min_distance_ida = calculate_total_distance(optimal_path_ida, distances) if optimal_path_ida else float('inf')\n",
    "  memory_ida, _ = tracemalloc.get_traced_memory()\n",
    "  tracemalloc.stop()\n",
    "\n",
    "  tracemalloc.start()\n",
    "  start_time_bfs = time.time()\n",
    "  optimal_path_bfs, min_distance_bfs  = BFS(start_node, nodes,distances, goal, target_node)\n",
    "  end_time_bfs = time.time()\n",
    "  memory_bfs, _ = tracemalloc.get_traced_memory()\n",
    "  tracemalloc.stop()\n",
    "\n",
    "elif goal == 2:\n",
    "  tracemalloc.start()\n",
    "  start_time_ida = time.time()\n",
    "  optimal_path_ida, min_distance_ida = find_optimal_path(nodes,distances, goal, target_node, 'IDA*')\n",
    "  end_time_ida = time.time()\n",
    "  memory_ida, _ = tracemalloc.get_traced_memory()\n",
    "  tracemalloc.stop()\n",
    "\n",
    "  tracemalloc.start()\n",
    "  start_time_bfs = time.time()\n",
    "  optimal_path_bfs, min_distance_bfs = find_optimal_path(nodes,distances, goal, target_node, 'BFS')\n",
    "  end_time_bfs = time.time()\n",
    "  memory_bfs, _ = tracemalloc.get_traced_memory()\n",
    "  tracemalloc.stop()\n",
    "\n",
    "# Print results and comparison\n",
    "print(\"IDA* results:\")\n",
    "print(f\"Optimal path: {' -> '.join(optimal_path_ida)}\" if optimal_path_ida else \"No path found.\")\n",
    "print(f\"Total distance: {min_distance_ida}\")\n",
    "print(f\"Time taken: {end_time_ida - start_time_ida:.6f} seconds\")\n",
    "print(f\"Memory usage: {memory_ida / 1024:.2f} KB\")\n",
    "\n",
    "print(\"\\nBFS results:\")\n",
    "print(f\"Optimal path: {' -> '.join(optimal_path_bfs)}\" if optimal_path_bfs else \"No path found.\")\n",
    "print(f\"Total distance: {min_distance_bfs}\")\n",
    "print(f\"Time taken: {end_time_bfs - start_time_bfs:.6f} seconds\")\n",
    "print(f\"Memory usage: {memory_bfs / 1024:.2f} KB\")"
   ]
  },
  {
   "cell_type": "markdown",
   "metadata": {
    "id": "5fKayKGONO8x"
   },
   "source": [
    "# 9. Comparitive analysis"
   ]
  },
  {
   "cell_type": "code",
   "execution_count": 12,
   "metadata": {
    "colab": {
     "base_uri": "https://localhost:8080/"
    },
    "id": "VQ6rZ2WoM4uH",
    "outputId": "ad19d40c-45cd-4640-91c2-f524914a4357"
   },
   "outputs": [
    {
     "name": "stdout",
     "output_type": "stream",
     "text": [
      "\n",
      "Best algorithm based on distance: Both are equally optimal\n",
      "BFS is faster.\n",
      "IDA* uses less memory.\n"
     ]
    }
   ],
   "source": [
    "# Determine the best algorithm\n",
    "best_algorithm = \"IDA*\" if min_distance_ida < min_distance_bfs else \"BFS\" if min_distance_bfs < min_distance_ida else \"Both are equally optimal\"\n",
    "print(f\"\\nBest algorithm based on distance: {best_algorithm}\")\n",
    "\n",
    "if end_time_ida - start_time_ida < end_time_bfs - start_time_bfs:\n",
    "    print(\"IDA* is faster.\")\n",
    "else:\n",
    "    print(\"BFS is faster.\")\n",
    "\n",
    "if memory_ida < memory_bfs:\n",
    "    print(\"IDA* uses less memory.\")\n",
    "else:\n",
    "    print(\"BFS uses less memory.\")"
   ]
  },
  {
   "cell_type": "markdown",
   "metadata": {
    "id": "tLTqe8OzOBuO"
   },
   "source": [
    "# Program end here."
   ]
  }
 ],
 "metadata": {
  "colab": {
   "provenance": []
  },
  "kernelspec": {
   "display_name": "Python 3 (ipykernel)",
   "language": "python",
   "name": "python3"
  },
  "language_info": {
   "codemirror_mode": {
    "name": "ipython",
    "version": 3
   },
   "file_extension": ".py",
   "mimetype": "text/x-python",
   "name": "python",
   "nbconvert_exporter": "python",
   "pygments_lexer": "ipython3",
   "version": "3.11.7"
  }
 },
 "nbformat": 4,
 "nbformat_minor": 4
}
